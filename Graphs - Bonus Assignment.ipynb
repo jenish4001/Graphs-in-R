{
 "cells": [
  {
   "cell_type": "markdown",
   "metadata": {},
   "source": [
    "<p class=\"pull-left\">\n",
    "ANLT 212 - Analytics Computing\n",
    "</p>\n",
    "<div class=\"pull-right\">\n",
    "<ul class=\"list-inline\">\n",
    "Copyright © Dana Nehoran 2017\n",
    "</ul>\n",
    "</div>"
   ]
  },
  {
   "cell_type": "markdown",
   "metadata": {},
   "source": [
    "<div style=\"background-color: #FFF8C6; border:1px solid #000; margin-left: 2px; margin-right: 2px; padding-\n",
    "\n",
    "bottom: 2px; padding-left: 2px; padding-right: 1px; padding-top: 10px;\">\n",
    "<center><b><font size=\"6\">Class 08 - Class Assignment</font></b></center> \n",
    "</div>"
   ]
  },
  {
   "cell_type": "markdown",
   "metadata": {},
   "source": [
    "<div align=\"right\"><b><font face=\"Arial\" size=4 color=black>Jenish Vinodbhai Dhaduk</font></b></div>\n",
    "<div align=\"right\"><b><font face=\"Arial\" size=4 color=black> Student ID- 989354198 </font></b></div><br><br>\n",
    "<div align=\"center\"><font face=\"Arial\" size=8 color=black>Project Title - Bonus Assignment(Graphs) </font></div><br><hr>"
   ]
  },
  {
   "cell_type": "markdown",
   "metadata": {},
   "source": [
    "# Editorial Reports Company"
   ]
  },
  {
   "cell_type": "markdown",
   "metadata": {},
   "source": [
    "The Editorial Reports Company is conducting a research to examine article republishing and reference among various publications.\n",
    "\n",
    "As part of this research, articles are being analyzed for their flow through the print and online media. For example, newspapers often refer to each other's articles, so an article published by the New York Times may be referred to in the Los Angeles Times soon after. \n",
    "\n",
    "Create a network with the following characteristics:\n",
    "- 12 newspapers\n",
    "- At least 65 references between newspapers\n",
    "- At least 12 self-references\n",
    "- 15 reporters (reporters may work for multiple newspapers)"
   ]
  },
  {
   "cell_type": "markdown",
   "metadata": {},
   "source": [
    "<blockquote style=\"border: 2px solid #666; padding: 10px; background-color: #ccc;\"><b>Question 1:</b> Adjacent Matrix</blockquote>"
   ]
  },
  {
   "cell_type": "markdown",
   "metadata": {},
   "source": [
    "<div align=left>\n",
    "<font size = 4 , color = blue><b> a)</b></font> Create the adjacent matrix for Editorial Reports\n",
    "</div>"
   ]
  },
  {
   "cell_type": "markdown",
   "metadata": {},
   "source": [
    "a.I) Create the adjacency matrix with the newspapers you have selected and the references between them <br>\n",
    "a.II) Print the number of references you have <br>\n",
    "a.III) Plot your graph\n",
    "\n",
    "Hint: One vertix for each newspaper. One edge for each reference."
   ]
  },
  {
   "cell_type": "markdown",
   "metadata": {},
   "source": [
    "<span style=\"background-color: #FFFF00\">Your answer here</span>"
   ]
  },
  {
   "cell_type": "code",
   "execution_count": 126,
   "metadata": {},
   "outputs": [
    {
     "data": {
      "text/html": [
       "<table>\n",
       "<thead><tr><th></th><th scope=col>USA TODAY</th><th scope=col>WALL STREET JOURNAL</th><th scope=col>NEWYORK TIMES</th><th scope=col>SF CHRONICAL</th><th scope=col>NEWYORK POST</th><th scope=col>LA TIMES</th><th scope=col>WASHINGTON POST</th><th scope=col>STAR TRIBUNE</th><th scope=col>NEWSDAY</th><th scope=col>CHICAGO TRIBUNE</th><th scope=col>BOSTON GLOBE</th><th scope=col>THE TIMES</th></tr></thead>\n",
       "<tbody>\n",
       "\t<tr><th scope=row>USA TODAY</th><td>1</td><td>1</td><td>0</td><td>1</td><td>1</td><td>0</td><td>0</td><td>0</td><td>0</td><td>1</td><td>0</td><td>1</td></tr>\n",
       "\t<tr><th scope=row>WALL STREET JOURNAL</th><td>1</td><td>1</td><td>1</td><td>0</td><td>0</td><td>0</td><td>0</td><td>0</td><td>1</td><td>0</td><td>0</td><td>1</td></tr>\n",
       "\t<tr><th scope=row>NEWYORK TIMES</th><td>0</td><td>1</td><td>1</td><td>1</td><td>0</td><td>0</td><td>1</td><td>0</td><td>0</td><td>0</td><td>0</td><td>1</td></tr>\n",
       "\t<tr><th scope=row>SF CHRONICAL</th><td>1</td><td>1</td><td>1</td><td>1</td><td>1</td><td>0</td><td>0</td><td>0</td><td>1</td><td>1</td><td>0</td><td>0</td></tr>\n",
       "\t<tr><th scope=row>NEWYORK POST</th><td>0</td><td>0</td><td>0</td><td>1</td><td>1</td><td>1</td><td>0</td><td>0</td><td>0</td><td>1</td><td>0</td><td>1</td></tr>\n",
       "\t<tr><th scope=row>LA TIMES</th><td>1</td><td>0</td><td>1</td><td>0</td><td>1</td><td>0</td><td>0</td><td>1</td><td>0</td><td>1</td><td>0</td><td>1</td></tr>\n",
       "\t<tr><th scope=row>WASHINGTON POST</th><td>0</td><td>0</td><td>0</td><td>1</td><td>0</td><td>1</td><td>1</td><td>0</td><td>0</td><td>0</td><td>1</td><td>0</td></tr>\n",
       "\t<tr><th scope=row>STAR TRIBUNE</th><td>0</td><td>0</td><td>0</td><td>0</td><td>0</td><td>0</td><td>1</td><td>1</td><td>0</td><td>1</td><td>0</td><td>1</td></tr>\n",
       "\t<tr><th scope=row>NEWSDAY</th><td>1</td><td>1</td><td>0</td><td>1</td><td>0</td><td>1</td><td>0</td><td>1</td><td>1</td><td>0</td><td>0</td><td>1</td></tr>\n",
       "\t<tr><th scope=row>CHICAGO TRIBUNE</th><td>0</td><td>0</td><td>0</td><td>0</td><td>0</td><td>1</td><td>1</td><td>0</td><td>0</td><td>1</td><td>1</td><td>0</td></tr>\n",
       "\t<tr><th scope=row>BOSTON GLOBE</th><td>1</td><td>1</td><td>1</td><td>0</td><td>0</td><td>1</td><td>1</td><td>1</td><td>0</td><td>0</td><td>1</td><td>0</td></tr>\n",
       "\t<tr><th scope=row>THE TIMES</th><td>0</td><td>0</td><td>0</td><td>1</td><td>0</td><td>1</td><td>1</td><td>1</td><td>0</td><td>1</td><td>0</td><td>1</td></tr>\n",
       "</tbody>\n",
       "</table>\n"
      ],
      "text/latex": [
       "\\begin{tabular}{r|llllllllllll}\n",
       "  & USA TODAY & WALL STREET JOURNAL & NEWYORK TIMES & SF CHRONICAL & NEWYORK POST & LA TIMES & WASHINGTON POST & STAR TRIBUNE & NEWSDAY & CHICAGO TRIBUNE & BOSTON GLOBE & THE TIMES\\\\\n",
       "\\hline\n",
       "\tUSA TODAY & 1 & 1 & 0 & 1 & 1 & 0 & 0 & 0 & 0 & 1 & 0 & 1\\\\\n",
       "\tWALL STREET JOURNAL & 1 & 1 & 1 & 0 & 0 & 0 & 0 & 0 & 1 & 0 & 0 & 1\\\\\n",
       "\tNEWYORK TIMES & 0 & 1 & 1 & 1 & 0 & 0 & 1 & 0 & 0 & 0 & 0 & 1\\\\\n",
       "\tSF CHRONICAL & 1 & 1 & 1 & 1 & 1 & 0 & 0 & 0 & 1 & 1 & 0 & 0\\\\\n",
       "\tNEWYORK POST & 0 & 0 & 0 & 1 & 1 & 1 & 0 & 0 & 0 & 1 & 0 & 1\\\\\n",
       "\tLA TIMES & 1 & 0 & 1 & 0 & 1 & 0 & 0 & 1 & 0 & 1 & 0 & 1\\\\\n",
       "\tWASHINGTON POST & 0 & 0 & 0 & 1 & 0 & 1 & 1 & 0 & 0 & 0 & 1 & 0\\\\\n",
       "\tSTAR TRIBUNE & 0 & 0 & 0 & 0 & 0 & 0 & 1 & 1 & 0 & 1 & 0 & 1\\\\\n",
       "\tNEWSDAY & 1 & 1 & 0 & 1 & 0 & 1 & 0 & 1 & 1 & 0 & 0 & 1\\\\\n",
       "\tCHICAGO TRIBUNE & 0 & 0 & 0 & 0 & 0 & 1 & 1 & 0 & 0 & 1 & 1 & 0\\\\\n",
       "\tBOSTON GLOBE & 1 & 1 & 1 & 0 & 0 & 1 & 1 & 1 & 0 & 0 & 1 & 0\\\\\n",
       "\tTHE TIMES & 0 & 0 & 0 & 1 & 0 & 1 & 1 & 1 & 0 & 1 & 0 & 1\\\\\n",
       "\\end{tabular}\n"
      ],
      "text/markdown": [
       "\n",
       "| <!--/--> | USA TODAY | WALL STREET JOURNAL | NEWYORK TIMES | SF CHRONICAL | NEWYORK POST | LA TIMES | WASHINGTON POST | STAR TRIBUNE | NEWSDAY | CHICAGO TRIBUNE | BOSTON GLOBE | THE TIMES |\n",
       "|---|---|---|---|---|---|---|---|---|---|---|---|---|\n",
       "| USA TODAY | 1 | 1 | 0 | 1 | 1 | 0 | 0 | 0 | 0 | 1 | 0 | 1 |\n",
       "| WALL STREET JOURNAL | 1 | 1 | 1 | 0 | 0 | 0 | 0 | 0 | 1 | 0 | 0 | 1 |\n",
       "| NEWYORK TIMES | 0 | 1 | 1 | 1 | 0 | 0 | 1 | 0 | 0 | 0 | 0 | 1 |\n",
       "| SF CHRONICAL | 1 | 1 | 1 | 1 | 1 | 0 | 0 | 0 | 1 | 1 | 0 | 0 |\n",
       "| NEWYORK POST | 0 | 0 | 0 | 1 | 1 | 1 | 0 | 0 | 0 | 1 | 0 | 1 |\n",
       "| LA TIMES | 1 | 0 | 1 | 0 | 1 | 0 | 0 | 1 | 0 | 1 | 0 | 1 |\n",
       "| WASHINGTON POST | 0 | 0 | 0 | 1 | 0 | 1 | 1 | 0 | 0 | 0 | 1 | 0 |\n",
       "| STAR TRIBUNE | 0 | 0 | 0 | 0 | 0 | 0 | 1 | 1 | 0 | 1 | 0 | 1 |\n",
       "| NEWSDAY | 1 | 1 | 0 | 1 | 0 | 1 | 0 | 1 | 1 | 0 | 0 | 1 |\n",
       "| CHICAGO TRIBUNE | 0 | 0 | 0 | 0 | 0 | 1 | 1 | 0 | 0 | 1 | 1 | 0 |\n",
       "| BOSTON GLOBE | 1 | 1 | 1 | 0 | 0 | 1 | 1 | 1 | 0 | 0 | 1 | 0 |\n",
       "| THE TIMES | 0 | 0 | 0 | 1 | 0 | 1 | 1 | 1 | 0 | 1 | 0 | 1 |\n",
       "\n"
      ],
      "text/plain": [
       "                    USA TODAY WALL STREET JOURNAL NEWYORK TIMES SF CHRONICAL\n",
       "USA TODAY           1         1                   0             1           \n",
       "WALL STREET JOURNAL 1         1                   1             0           \n",
       "NEWYORK TIMES       0         1                   1             1           \n",
       "SF CHRONICAL        1         1                   1             1           \n",
       "NEWYORK POST        0         0                   0             1           \n",
       "LA TIMES            1         0                   1             0           \n",
       "WASHINGTON POST     0         0                   0             1           \n",
       "STAR TRIBUNE        0         0                   0             0           \n",
       "NEWSDAY             1         1                   0             1           \n",
       "CHICAGO TRIBUNE     0         0                   0             0           \n",
       "BOSTON GLOBE        1         1                   1             0           \n",
       "THE TIMES           0         0                   0             1           \n",
       "                    NEWYORK POST LA TIMES WASHINGTON POST STAR TRIBUNE NEWSDAY\n",
       "USA TODAY           1            0        0               0            0      \n",
       "WALL STREET JOURNAL 0            0        0               0            1      \n",
       "NEWYORK TIMES       0            0        1               0            0      \n",
       "SF CHRONICAL        1            0        0               0            1      \n",
       "NEWYORK POST        1            1        0               0            0      \n",
       "LA TIMES            1            0        0               1            0      \n",
       "WASHINGTON POST     0            1        1               0            0      \n",
       "STAR TRIBUNE        0            0        1               1            0      \n",
       "NEWSDAY             0            1        0               1            1      \n",
       "CHICAGO TRIBUNE     0            1        1               0            0      \n",
       "BOSTON GLOBE        0            1        1               1            0      \n",
       "THE TIMES           0            1        1               1            0      \n",
       "                    CHICAGO TRIBUNE BOSTON GLOBE THE TIMES\n",
       "USA TODAY           1               0            1        \n",
       "WALL STREET JOURNAL 0               0            1        \n",
       "NEWYORK TIMES       0               0            1        \n",
       "SF CHRONICAL        1               0            0        \n",
       "NEWYORK POST        1               0            1        \n",
       "LA TIMES            1               0            1        \n",
       "WASHINGTON POST     0               1            0        \n",
       "STAR TRIBUNE        1               0            1        \n",
       "NEWSDAY             0               0            1        \n",
       "CHICAGO TRIBUNE     1               1            0        \n",
       "BOSTON GLOBE        0               1            0        \n",
       "THE TIMES           1               0            1        "
      ]
     },
     "metadata": {},
     "output_type": "display_data"
    },
    {
     "name": "stdout",
     "output_type": "stream",
     "text": [
      "The number of references between newspapers is: 66"
     ]
    },
    {
     "data": {
      "image/png": "[encoded data removed]",
      "text/plain": [
       "Plot with title \"\""
      ]
     },
     "metadata": {},
     "output_type": "display_data"
    }
   ],
   "source": [
    "rm(list=ls()) # clear memory\n",
    "library(igraph) # load package igraph\n",
    "\n",
    "# Adjacency matrices: graph.adjacency() and get.adjacency()\n",
    "Amat<-matrix(\n",
    "c(1, 1, 0, 1, 1, 0, 0, 0, 0, 1, 0, 1,\n",
    "  1, 1, 1, 0, 0, 0, 0, 0, 1, 0, 0, 1,\n",
    "  0, 1, 1, 1, 0, 0, 1, 0, 0, 0, 0, 1,\n",
    "  1, 1, 1, 1, 1, 0, 0, 0, 1, 1, 0, 0,\n",
    "  0, 0, 0, 1, 1, 1, 0, 0, 0, 1, 0, 1,\n",
    "  1, 0, 1, 0, 1, 0, 0, 1, 0, 1, 0, 1,\n",
    "  0, 0, 0, 1, 0, 1, 1, 0, 0, 0, 1, 0,\n",
    "  0, 0, 0, 0, 0, 0, 1, 1, 0, 1, 0, 1,\n",
    "  1, 1, 0, 1, 0, 1, 0, 1, 1, 0, 0, 1,\n",
    "  0, 0, 0, 0, 0, 1, 1, 0, 0, 1, 1, 0,\n",
    "  1, 1, 1, 0, 0, 1, 1, 1, 0, 0, 1, 0,\n",
    "  0, 0, 0, 1, 0, 1, 1, 1, 0, 1, 0, 1), # data elements\n",
    "nrow=12, # number of rows\n",
    "ncol=12, # number of columns\n",
    "byrow = TRUE) # fill matrix by rows\n",
    "\n",
    "dist_centers <- c(\"USA TODAY\",\"WALL STREET JOURNAL\",\"NEWYORK TIMES\",\"SF CHRONICAL\",\"NEWYORK POST\",\n",
    "                  \"LA TIMES\",\"WASHINGTON POST\",\"STAR TRIBUNE\",\"NEWSDAY\",\"CHICAGO TRIBUNE\",\"BOSTON GLOBE\",\"THE TIMES\")\n",
    "\n",
    "rownames(Amat) <- dist_centers\n",
    "colnames(Amat) <- dist_centers\n",
    "\n",
    "Amat\n",
    "cat(\"The number of references between newspapers is:\", sum(Amat))\n",
    "\n",
    "news_g <- graph.adjacency(Amat, mode=\"directed\")\n",
    "plot(news_g, edge.arrow.size=.5, vertex.color=\"gold\", vertex.size=30)\n"
   ]
  },
  {
   "cell_type": "markdown",
   "metadata": {},
   "source": [
    "The above graph shows the number of refrerred articles among different Newspapers."
   ]
  },
  {
   "cell_type": "markdown",
   "metadata": {},
   "source": [
    "<blockquote style=\"border: 2px solid #666; padding: 10px; background-color: #ccc;\"><b>Question 2:</b> Editorial Report Matrix</blockquote>"
   ]
  },
  {
   "cell_type": "markdown",
   "metadata": {},
   "source": [
    "<div align=left>\n",
    "<font size = 4 , color = blue><b> a) </b></font> Apply changes to the Editorial Reports matrix: Newspaper going out of business.\n",
    "</div>"
   ]
  },
  {
   "cell_type": "markdown",
   "metadata": {},
   "source": [
    "a.I) The newspaper you've listed 7th has declared bankruptcy. Delete that newspaper from your matrix **without redefining the matrix** <br>\n",
    "a.II) Print the new number of references you have <br>\n",
    "a.III) Plot your new graph"
   ]
  },
  {
   "cell_type": "markdown",
   "metadata": {},
   "source": [
    "<span style=\"background-color: #FFFF00\">Your answer here</span>"
   ]
  },
  {
   "cell_type": "code",
   "execution_count": 127,
   "metadata": {},
   "outputs": [
    {
     "data": {
      "text/html": [
       "<table>\n",
       "<thead><tr><th></th><th scope=col>USA TODAY</th><th scope=col>WALL STREET JOURNAL</th><th scope=col>NEWYORK TIMES</th><th scope=col>SF CHRONICAL</th><th scope=col>NEWYORK POST</th><th scope=col>LA TIMES</th><th scope=col>STAR TRIBUNE</th><th scope=col>NEWSDAY</th><th scope=col>CHICAGO TRIBUNE</th><th scope=col>BOSTON GLOBE</th><th scope=col>THE TIMES</th></tr></thead>\n",
       "<tbody>\n",
       "\t<tr><th scope=row>USA TODAY</th><td>1</td><td>1</td><td>0</td><td>1</td><td>1</td><td>0</td><td>0</td><td>0</td><td>1</td><td>0</td><td>1</td></tr>\n",
       "\t<tr><th scope=row>WALL STREET JOURNAL</th><td>1</td><td>1</td><td>1</td><td>0</td><td>0</td><td>0</td><td>0</td><td>1</td><td>0</td><td>0</td><td>1</td></tr>\n",
       "\t<tr><th scope=row>NEWYORK TIMES</th><td>0</td><td>1</td><td>1</td><td>1</td><td>0</td><td>0</td><td>0</td><td>0</td><td>0</td><td>0</td><td>1</td></tr>\n",
       "\t<tr><th scope=row>SF CHRONICAL</th><td>1</td><td>1</td><td>1</td><td>1</td><td>1</td><td>0</td><td>0</td><td>1</td><td>1</td><td>0</td><td>0</td></tr>\n",
       "\t<tr><th scope=row>NEWYORK POST</th><td>0</td><td>0</td><td>0</td><td>1</td><td>1</td><td>1</td><td>0</td><td>0</td><td>1</td><td>0</td><td>1</td></tr>\n",
       "\t<tr><th scope=row>LA TIMES</th><td>1</td><td>0</td><td>1</td><td>0</td><td>1</td><td>0</td><td>1</td><td>0</td><td>1</td><td>0</td><td>1</td></tr>\n",
       "\t<tr><th scope=row>STAR TRIBUNE</th><td>0</td><td>0</td><td>0</td><td>0</td><td>0</td><td>0</td><td>1</td><td>0</td><td>1</td><td>0</td><td>1</td></tr>\n",
       "\t<tr><th scope=row>NEWSDAY</th><td>1</td><td>1</td><td>0</td><td>1</td><td>0</td><td>1</td><td>1</td><td>1</td><td>0</td><td>0</td><td>1</td></tr>\n",
       "\t<tr><th scope=row>CHICAGO TRIBUNE</th><td>0</td><td>0</td><td>0</td><td>0</td><td>0</td><td>1</td><td>0</td><td>0</td><td>1</td><td>1</td><td>0</td></tr>\n",
       "\t<tr><th scope=row>BOSTON GLOBE</th><td>1</td><td>1</td><td>1</td><td>0</td><td>0</td><td>1</td><td>1</td><td>0</td><td>0</td><td>1</td><td>0</td></tr>\n",
       "\t<tr><th scope=row>THE TIMES</th><td>0</td><td>0</td><td>0</td><td>1</td><td>0</td><td>1</td><td>1</td><td>0</td><td>1</td><td>0</td><td>1</td></tr>\n",
       "</tbody>\n",
       "</table>\n"
      ],
      "text/latex": [
       "\\begin{tabular}{r|lllllllllll}\n",
       "  & USA TODAY & WALL STREET JOURNAL & NEWYORK TIMES & SF CHRONICAL & NEWYORK POST & LA TIMES & STAR TRIBUNE & NEWSDAY & CHICAGO TRIBUNE & BOSTON GLOBE & THE TIMES\\\\\n",
       "\\hline\n",
       "\tUSA TODAY & 1 & 1 & 0 & 1 & 1 & 0 & 0 & 0 & 1 & 0 & 1\\\\\n",
       "\tWALL STREET JOURNAL & 1 & 1 & 1 & 0 & 0 & 0 & 0 & 1 & 0 & 0 & 1\\\\\n",
       "\tNEWYORK TIMES & 0 & 1 & 1 & 1 & 0 & 0 & 0 & 0 & 0 & 0 & 1\\\\\n",
       "\tSF CHRONICAL & 1 & 1 & 1 & 1 & 1 & 0 & 0 & 1 & 1 & 0 & 0\\\\\n",
       "\tNEWYORK POST & 0 & 0 & 0 & 1 & 1 & 1 & 0 & 0 & 1 & 0 & 1\\\\\n",
       "\tLA TIMES & 1 & 0 & 1 & 0 & 1 & 0 & 1 & 0 & 1 & 0 & 1\\\\\n",
       "\tSTAR TRIBUNE & 0 & 0 & 0 & 0 & 0 & 0 & 1 & 0 & 1 & 0 & 1\\\\\n",
       "\tNEWSDAY & 1 & 1 & 0 & 1 & 0 & 1 & 1 & 1 & 0 & 0 & 1\\\\\n",
       "\tCHICAGO TRIBUNE & 0 & 0 & 0 & 0 & 0 & 1 & 0 & 0 & 1 & 1 & 0\\\\\n",
       "\tBOSTON GLOBE & 1 & 1 & 1 & 0 & 0 & 1 & 1 & 0 & 0 & 1 & 0\\\\\n",
       "\tTHE TIMES & 0 & 0 & 0 & 1 & 0 & 1 & 1 & 0 & 1 & 0 & 1\\\\\n",
       "\\end{tabular}\n"
      ],
      "text/markdown": [
       "\n",
       "| <!--/--> | USA TODAY | WALL STREET JOURNAL | NEWYORK TIMES | SF CHRONICAL | NEWYORK POST | LA TIMES | STAR TRIBUNE | NEWSDAY | CHICAGO TRIBUNE | BOSTON GLOBE | THE TIMES |\n",
       "|---|---|---|---|---|---|---|---|---|---|---|---|\n",
       "| USA TODAY | 1 | 1 | 0 | 1 | 1 | 0 | 0 | 0 | 1 | 0 | 1 |\n",
       "| WALL STREET JOURNAL | 1 | 1 | 1 | 0 | 0 | 0 | 0 | 1 | 0 | 0 | 1 |\n",
       "| NEWYORK TIMES | 0 | 1 | 1 | 1 | 0 | 0 | 0 | 0 | 0 | 0 | 1 |\n",
       "| SF CHRONICAL | 1 | 1 | 1 | 1 | 1 | 0 | 0 | 1 | 1 | 0 | 0 |\n",
       "| NEWYORK POST | 0 | 0 | 0 | 1 | 1 | 1 | 0 | 0 | 1 | 0 | 1 |\n",
       "| LA TIMES | 1 | 0 | 1 | 0 | 1 | 0 | 1 | 0 | 1 | 0 | 1 |\n",
       "| STAR TRIBUNE | 0 | 0 | 0 | 0 | 0 | 0 | 1 | 0 | 1 | 0 | 1 |\n",
       "| NEWSDAY | 1 | 1 | 0 | 1 | 0 | 1 | 1 | 1 | 0 | 0 | 1 |\n",
       "| CHICAGO TRIBUNE | 0 | 0 | 0 | 0 | 0 | 1 | 0 | 0 | 1 | 1 | 0 |\n",
       "| BOSTON GLOBE | 1 | 1 | 1 | 0 | 0 | 1 | 1 | 0 | 0 | 1 | 0 |\n",
       "| THE TIMES | 0 | 0 | 0 | 1 | 0 | 1 | 1 | 0 | 1 | 0 | 1 |\n",
       "\n"
      ],
      "text/plain": [
       "                    USA TODAY WALL STREET JOURNAL NEWYORK TIMES SF CHRONICAL\n",
       "USA TODAY           1         1                   0             1           \n",
       "WALL STREET JOURNAL 1         1                   1             0           \n",
       "NEWYORK TIMES       0         1                   1             1           \n",
       "SF CHRONICAL        1         1                   1             1           \n",
       "NEWYORK POST        0         0                   0             1           \n",
       "LA TIMES            1         0                   1             0           \n",
       "STAR TRIBUNE        0         0                   0             0           \n",
       "NEWSDAY             1         1                   0             1           \n",
       "CHICAGO TRIBUNE     0         0                   0             0           \n",
       "BOSTON GLOBE        1         1                   1             0           \n",
       "THE TIMES           0         0                   0             1           \n",
       "                    NEWYORK POST LA TIMES STAR TRIBUNE NEWSDAY CHICAGO TRIBUNE\n",
       "USA TODAY           1            0        0            0       1              \n",
       "WALL STREET JOURNAL 0            0        0            1       0              \n",
       "NEWYORK TIMES       0            0        0            0       0              \n",
       "SF CHRONICAL        1            0        0            1       1              \n",
       "NEWYORK POST        1            1        0            0       1              \n",
       "LA TIMES            1            0        1            0       1              \n",
       "STAR TRIBUNE        0            0        1            0       1              \n",
       "NEWSDAY             0            1        1            1       0              \n",
       "CHICAGO TRIBUNE     0            1        0            0       1              \n",
       "BOSTON GLOBE        0            1        1            0       0              \n",
       "THE TIMES           0            1        1            0       1              \n",
       "                    BOSTON GLOBE THE TIMES\n",
       "USA TODAY           0            1        \n",
       "WALL STREET JOURNAL 0            1        \n",
       "NEWYORK TIMES       0            1        \n",
       "SF CHRONICAL        0            0        \n",
       "NEWYORK POST        0            1        \n",
       "LA TIMES            0            1        \n",
       "STAR TRIBUNE        0            1        \n",
       "NEWSDAY             0            1        \n",
       "CHICAGO TRIBUNE     1            0        \n",
       "BOSTON GLOBE        1            0        \n",
       "THE TIMES           0            1        "
      ]
     },
     "metadata": {},
     "output_type": "display_data"
    },
    {
     "name": "stdout",
     "output_type": "stream",
     "text": [
      "The number of references between newspapers is: 57"
     ]
    },
    {
     "data": {
      "image/png": "[encoded data removed]",
      "text/plain": [
       "Plot with title \"\""
      ]
     },
     "metadata": {},
     "output_type": "display_data"
    }
   ],
   "source": [
    "Amat<-Amat[,-7]\n",
    "Amat<-Amat[-7,]\n",
    "\n",
    "dist_centers <- c(\"USA TODAY\",\"WALL STREET JOURNAL\",\"NEWYORK TIMES\",\"SF CHRONICAL\",\"NEWYORK POST\",\n",
    "                  \"LA TIMES\",\"STAR TRIBUNE\",\"NEWSDAY\",\"CHICAGO TRIBUNE\",\"BOSTON GLOBE\",\"THE TIMES\")\n",
    "\n",
    "rownames(Amat) <- dist_centers\n",
    "colnames(Amat) <- dist_centers\n",
    "\n",
    "Amat\n",
    "cat(\"The number of references between newspapers is:\", sum(Amat))\n",
    "\n",
    "news_g <- graph.adjacency(Amat, mode=\"directed\")\n",
    "plot(news_g, edge.arrow.size=.5, vertex.color=\"gold\", vertex.size=30)"
   ]
  },
  {
   "cell_type": "markdown",
   "metadata": {},
   "source": [
    "The above graph shows that <B>Washington post</B> has declared bankruptcy and is thus <b>deleted</b> from the graph."
   ]
  },
  {
   "cell_type": "markdown",
   "metadata": {},
   "source": [
    "<blockquote style=\"border: 2px solid #666; padding: 10px; background-color: #ccc;\"><b>Question 3:</b> Newspaper Merger</blockquote>"
   ]
  },
  {
   "cell_type": "markdown",
   "metadata": {},
   "source": [
    "<div align=left>\n",
    "<font size = 4 , color = blue><b> a)</b></font> Apply changes to the Editorial Reports matrix: Newspaper merger.\n",
    "</div>"
   ]
  },
  {
   "cell_type": "markdown",
   "metadata": {},
   "source": [
    "a.I) The newspaper you've listed 2nd has acquired the one you've listed 4th. Merge the 4th newspaper (including all its articles) into the 2nd, and remove the 4th newspaper entirely from the matrix **without redefining the matrix** <br>\n",
    "a.II) Print the up-to-date number of references, and verify the merger hasn't changed it <br>\n",
    "a.III) Plot your new graph"
   ]
  },
  {
   "cell_type": "code",
   "execution_count": 128,
   "metadata": {
    "scrolled": true
   },
   "outputs": [
    {
     "data": {
      "text/html": [
       "<table>\n",
       "<thead><tr><th></th><th scope=col>USA TODAY</th><th scope=col>WALL STREET JOURNAL</th><th scope=col>NEWYORK TIMES</th><th scope=col>NEWYORK POST</th><th scope=col>LA TIMES</th><th scope=col>STAR TRIBUNE</th><th scope=col>NEWSDAY</th><th scope=col>CHICAGO TRIBUNE</th><th scope=col>BOSTON GLOBE</th><th scope=col>THE TIMES</th></tr></thead>\n",
       "<tbody>\n",
       "\t<tr><th scope=row>USA TODAY</th><td>1</td><td>1</td><td>0</td><td>1</td><td>0</td><td>0</td><td>0</td><td>1</td><td>0</td><td>1</td></tr>\n",
       "\t<tr><th scope=row>WALL STREET JOURNAL</th><td>2</td><td>2</td><td>2</td><td>1</td><td>0</td><td>0</td><td>2</td><td>1</td><td>0</td><td>1</td></tr>\n",
       "\t<tr><th scope=row>NEWYORK TIMES</th><td>0</td><td>1</td><td>1</td><td>0</td><td>0</td><td>0</td><td>0</td><td>0</td><td>0</td><td>1</td></tr>\n",
       "\t<tr><th scope=row>NEWYORK POST</th><td>0</td><td>0</td><td>0</td><td>1</td><td>1</td><td>0</td><td>0</td><td>1</td><td>0</td><td>1</td></tr>\n",
       "\t<tr><th scope=row>LA TIMES</th><td>1</td><td>0</td><td>1</td><td>1</td><td>0</td><td>1</td><td>0</td><td>1</td><td>0</td><td>1</td></tr>\n",
       "\t<tr><th scope=row>STAR TRIBUNE</th><td>0</td><td>0</td><td>0</td><td>0</td><td>0</td><td>1</td><td>0</td><td>1</td><td>0</td><td>1</td></tr>\n",
       "\t<tr><th scope=row>NEWSDAY</th><td>1</td><td>1</td><td>0</td><td>0</td><td>1</td><td>1</td><td>1</td><td>0</td><td>0</td><td>1</td></tr>\n",
       "\t<tr><th scope=row>CHICAGO TRIBUNE</th><td>0</td><td>0</td><td>0</td><td>0</td><td>1</td><td>0</td><td>0</td><td>1</td><td>1</td><td>0</td></tr>\n",
       "\t<tr><th scope=row>BOSTON GLOBE</th><td>1</td><td>1</td><td>1</td><td>0</td><td>1</td><td>1</td><td>0</td><td>0</td><td>1</td><td>0</td></tr>\n",
       "\t<tr><th scope=row>THE TIMES</th><td>0</td><td>0</td><td>0</td><td>0</td><td>1</td><td>1</td><td>0</td><td>1</td><td>0</td><td>1</td></tr>\n",
       "</tbody>\n",
       "</table>\n"
      ],
      "text/latex": [
       "\\begin{tabular}{r|llllllllll}\n",
       "  & USA TODAY & WALL STREET JOURNAL & NEWYORK TIMES & NEWYORK POST & LA TIMES & STAR TRIBUNE & NEWSDAY & CHICAGO TRIBUNE & BOSTON GLOBE & THE TIMES\\\\\n",
       "\\hline\n",
       "\tUSA TODAY & 1 & 1 & 0 & 1 & 0 & 0 & 0 & 1 & 0 & 1\\\\\n",
       "\tWALL STREET JOURNAL & 2 & 2 & 2 & 1 & 0 & 0 & 2 & 1 & 0 & 1\\\\\n",
       "\tNEWYORK TIMES & 0 & 1 & 1 & 0 & 0 & 0 & 0 & 0 & 0 & 1\\\\\n",
       "\tNEWYORK POST & 0 & 0 & 0 & 1 & 1 & 0 & 0 & 1 & 0 & 1\\\\\n",
       "\tLA TIMES & 1 & 0 & 1 & 1 & 0 & 1 & 0 & 1 & 0 & 1\\\\\n",
       "\tSTAR TRIBUNE & 0 & 0 & 0 & 0 & 0 & 1 & 0 & 1 & 0 & 1\\\\\n",
       "\tNEWSDAY & 1 & 1 & 0 & 0 & 1 & 1 & 1 & 0 & 0 & 1\\\\\n",
       "\tCHICAGO TRIBUNE & 0 & 0 & 0 & 0 & 1 & 0 & 0 & 1 & 1 & 0\\\\\n",
       "\tBOSTON GLOBE & 1 & 1 & 1 & 0 & 1 & 1 & 0 & 0 & 1 & 0\\\\\n",
       "\tTHE TIMES & 0 & 0 & 0 & 0 & 1 & 1 & 0 & 1 & 0 & 1\\\\\n",
       "\\end{tabular}\n"
      ],
      "text/markdown": [
       "\n",
       "| <!--/--> | USA TODAY | WALL STREET JOURNAL | NEWYORK TIMES | NEWYORK POST | LA TIMES | STAR TRIBUNE | NEWSDAY | CHICAGO TRIBUNE | BOSTON GLOBE | THE TIMES |\n",
       "|---|---|---|---|---|---|---|---|---|---|---|\n",
       "| USA TODAY | 1 | 1 | 0 | 1 | 0 | 0 | 0 | 1 | 0 | 1 |\n",
       "| WALL STREET JOURNAL | 2 | 2 | 2 | 1 | 0 | 0 | 2 | 1 | 0 | 1 |\n",
       "| NEWYORK TIMES | 0 | 1 | 1 | 0 | 0 | 0 | 0 | 0 | 0 | 1 |\n",
       "| NEWYORK POST | 0 | 0 | 0 | 1 | 1 | 0 | 0 | 1 | 0 | 1 |\n",
       "| LA TIMES | 1 | 0 | 1 | 1 | 0 | 1 | 0 | 1 | 0 | 1 |\n",
       "| STAR TRIBUNE | 0 | 0 | 0 | 0 | 0 | 1 | 0 | 1 | 0 | 1 |\n",
       "| NEWSDAY | 1 | 1 | 0 | 0 | 1 | 1 | 1 | 0 | 0 | 1 |\n",
       "| CHICAGO TRIBUNE | 0 | 0 | 0 | 0 | 1 | 0 | 0 | 1 | 1 | 0 |\n",
       "| BOSTON GLOBE | 1 | 1 | 1 | 0 | 1 | 1 | 0 | 0 | 1 | 0 |\n",
       "| THE TIMES | 0 | 0 | 0 | 0 | 1 | 1 | 0 | 1 | 0 | 1 |\n",
       "\n"
      ],
      "text/plain": [
       "                    USA TODAY WALL STREET JOURNAL NEWYORK TIMES NEWYORK POST\n",
       "USA TODAY           1         1                   0             1           \n",
       "WALL STREET JOURNAL 2         2                   2             1           \n",
       "NEWYORK TIMES       0         1                   1             0           \n",
       "NEWYORK POST        0         0                   0             1           \n",
       "LA TIMES            1         0                   1             1           \n",
       "STAR TRIBUNE        0         0                   0             0           \n",
       "NEWSDAY             1         1                   0             0           \n",
       "CHICAGO TRIBUNE     0         0                   0             0           \n",
       "BOSTON GLOBE        1         1                   1             0           \n",
       "THE TIMES           0         0                   0             0           \n",
       "                    LA TIMES STAR TRIBUNE NEWSDAY CHICAGO TRIBUNE BOSTON GLOBE\n",
       "USA TODAY           0        0            0       1               0           \n",
       "WALL STREET JOURNAL 0        0            2       1               0           \n",
       "NEWYORK TIMES       0        0            0       0               0           \n",
       "NEWYORK POST        1        0            0       1               0           \n",
       "LA TIMES            0        1            0       1               0           \n",
       "STAR TRIBUNE        0        1            0       1               0           \n",
       "NEWSDAY             1        1            1       0               0           \n",
       "CHICAGO TRIBUNE     1        0            0       1               1           \n",
       "BOSTON GLOBE        1        1            0       0               1           \n",
       "THE TIMES           1        1            0       1               0           \n",
       "                    THE TIMES\n",
       "USA TODAY           1        \n",
       "WALL STREET JOURNAL 1        \n",
       "NEWYORK TIMES       1        \n",
       "NEWYORK POST        1        \n",
       "LA TIMES            1        \n",
       "STAR TRIBUNE        1        \n",
       "NEWSDAY             1        \n",
       "CHICAGO TRIBUNE     0        \n",
       "BOSTON GLOBE        0        \n",
       "THE TIMES           1        "
      ]
     },
     "metadata": {},
     "output_type": "display_data"
    },
    {
     "name": "stdout",
     "output_type": "stream",
     "text": [
      "The number of references between newspapers is: 51"
     ]
    },
    {
     "data": {
      "image/png": "[encoded data removed]",
      "text/plain": [
       "Plot with title \"\""
      ]
     },
     "metadata": {},
     "output_type": "display_data"
    }
   ],
   "source": [
    "Amat[2,]<-Amat[4,] +Amat[2,]\n",
    "Amat<-Amat[,-4]\n",
    "Amat<-Amat[-4,]\n",
    "dist_centers <- c(\"USA TODAY\",\"WALL STREET JOURNAL\",\"NEWYORK TIMES\",\"NEWYORK POST\",\n",
    "                  \"LA TIMES\",\"STAR TRIBUNE\",\"NEWSDAY\",\"CHICAGO TRIBUNE\",\"BOSTON GLOBE\",\"THE TIMES\")\n",
    "\n",
    "rownames(Amat) <- dist_centers\n",
    "colnames(Amat) <- dist_centers\n",
    "\n",
    "Amat\n",
    "cat(\"The number of references between newspapers is:\", sum(Amat))\n",
    "\n",
    "news_g <- graph.adjacency(Amat, mode=\"directed\")\n",
    "plot(news_g, edge.arrow.size=.5, vertex.color=\"gold\", vertex.size=30)"
   ]
  },
  {
   "cell_type": "markdown",
   "metadata": {},
   "source": [
    "The above graph shows the merger of the two newspaper. <B>WALL STREET JOURNAL</B> has aquired the <B>SF CHRONICALS</B> and all the refrences of <B>Sf CHRONICALS is added to WALL STREET JOURNAL</B>"
   ]
  },
  {
   "cell_type": "markdown",
   "metadata": {},
   "source": [
    "<blockquote style=\"border: 2px solid #666; padding: 10px; background-color: #ccc;\"><b>Question 4:</b> Adding Properties</blockquote>"
   ]
  },
  {
   "cell_type": "markdown",
   "metadata": {},
   "source": [
    "<div align=left>\n",
    "<b><font color=\"blue\", size = 4>a)</font></b> Add properties to each link that contain the name of the reporter who wrote the article, the article's genre, and at least one more property of your choice.\n",
    "</div>"
   ]
  },
  {
   "cell_type": "markdown",
   "metadata": {},
   "source": [
    "<span style=\"background-color: #FFFF00\">Your answer here</span>"
   ]
  },
  {
   "cell_type": "code",
   "execution_count": 129,
   "metadata": {
    "scrolled": true
   },
   "outputs": [
    {
     "data": {
      "text/plain": [
       "+ 10/10 vertices, named, from 9c114be:\n",
       " [1] USA TODAY           WALL STREET JOURNAL NEWYORK TIMES      \n",
       " [4] NEWYORK POST        LA TIMES            STAR TRIBUNE       \n",
       " [7] NEWSDAY             CHICAGO TRIBUNE     BOSTON GLOBE       \n",
       "[10] THE TIMES          "
      ]
     },
     "metadata": {},
     "output_type": "display_data"
    }
   ],
   "source": [
    "V(news_g)"
   ]
  },
  {
   "cell_type": "code",
   "execution_count": 130,
   "metadata": {
    "scrolled": true
   },
   "outputs": [
    {
     "data": {
      "text/plain": [
       "+ 51/51 edges from 9c114be (vertex names):\n",
       " [1] USA TODAY          ->USA TODAY          \n",
       " [2] USA TODAY          ->WALL STREET JOURNAL\n",
       " [3] USA TODAY          ->NEWYORK POST       \n",
       " [4] USA TODAY          ->CHICAGO TRIBUNE    \n",
       " [5] USA TODAY          ->THE TIMES          \n",
       " [6] WALL STREET JOURNAL->USA TODAY          \n",
       " [7] WALL STREET JOURNAL->USA TODAY          \n",
       " [8] WALL STREET JOURNAL->WALL STREET JOURNAL\n",
       " [9] WALL STREET JOURNAL->WALL STREET JOURNAL\n",
       "[10] WALL STREET JOURNAL->NEWYORK TIMES      \n",
       "+ ... omitted several edges"
      ]
     },
     "metadata": {},
     "output_type": "display_data"
    }
   ],
   "source": [
    "E(news_g)"
   ]
  },
  {
   "cell_type": "code",
   "execution_count": 131,
   "metadata": {},
   "outputs": [
    {
     "data": {
      "text/html": [
       "<dl>\n",
       "\t<dt>$reporter</dt>\n",
       "\t\t<dd><ol class=list-inline>\n",
       "\t<li>'John'</li>\n",
       "\t<li>'Taylor'</li>\n",
       "\t<li>'Chris'</li>\n",
       "\t<li>'Lilly'</li>\n",
       "\t<li>'Larry'</li>\n",
       "\t<li>'Henderson'</li>\n",
       "\t<li>'Rohan'</li>\n",
       "\t<li>'Barbara'</li>\n",
       "\t<li>'Kallie'</li>\n",
       "\t<li>'Pegi'</li>\n",
       "\t<li>'Mark'</li>\n",
       "\t<li>'Steve'</li>\n",
       "\t<li>'Derin'</li>\n",
       "\t<li>'Wendy'</li>\n",
       "\t<li>'Harry'</li>\n",
       "\t<li>'Larry'</li>\n",
       "\t<li>'Barbara'</li>\n",
       "\t<li>'Wendy'</li>\n",
       "\t<li>'Rohan'</li>\n",
       "\t<li>'Kallie'</li>\n",
       "\t<li>'Taylor'</li>\n",
       "\t<li>'Chris'</li>\n",
       "\t<li>'Wendy'</li>\n",
       "\t<li>'Rohan'</li>\n",
       "\t<li>'John'</li>\n",
       "\t<li>'Larry'</li>\n",
       "\t<li>'Lilly'</li>\n",
       "\t<li>'Larry'</li>\n",
       "\t<li>'Henderson'</li>\n",
       "\t<li>'Pegi'</li>\n",
       "\t<li>'Mark'</li>\n",
       "\t<li>'Steve'</li>\n",
       "\t<li>'Chris'</li>\n",
       "\t<li>'Lilly'</li>\n",
       "\t<li>'Larry'</li>\n",
       "\t<li>'Henderson'</li>\n",
       "\t<li>'Wendy'</li>\n",
       "\t<li>'Kallie'</li>\n",
       "\t<li>'Pegi'</li>\n",
       "\t<li>'Pegi'</li>\n",
       "\t<li>'John'</li>\n",
       "\t<li>'Henderson'</li>\n",
       "\t<li>'Derin'</li>\n",
       "\t<li>'Wendy'</li>\n",
       "\t<li>'Harry'</li>\n",
       "\t<li>'Steve'</li>\n",
       "\t<li>'Derin'</li>\n",
       "\t<li>'Wendy'</li>\n",
       "\t<li>'Rohan'</li>\n",
       "\t<li>'John'</li>\n",
       "\t<li>'Wendy'</li>\n",
       "</ol>\n",
       "</dd>\n",
       "\t<dt>$genre</dt>\n",
       "\t\t<dd><ol class=list-inline>\n",
       "\t<li>'Sports'</li>\n",
       "\t<li>'Technology'</li>\n",
       "\t<li>'Science'</li>\n",
       "\t<li>'Computer'</li>\n",
       "\t<li>'Retail'</li>\n",
       "\t<li>'Bussiness'</li>\n",
       "\t<li>'Stock Exchnage'</li>\n",
       "\t<li>'Hollywood'</li>\n",
       "\t<li>'Science'</li>\n",
       "\t<li>'Computer'</li>\n",
       "\t<li>'Science'</li>\n",
       "\t<li>'Technology'</li>\n",
       "\t<li>'Science'</li>\n",
       "\t<li>'Computer'</li>\n",
       "\t<li>'Sports'</li>\n",
       "\t<li>'Technology'</li>\n",
       "\t<li>'Science'</li>\n",
       "\t<li>'Computer'</li>\n",
       "\t<li>'Stock Exchnage'</li>\n",
       "\t<li>'Hollywood'</li>\n",
       "\t<li>'Retail'</li>\n",
       "\t<li>'Bussiness'</li>\n",
       "\t<li>'Stock Exchnage'</li>\n",
       "\t<li>'Hollywood'</li>\n",
       "\t<li>'Science'</li>\n",
       "\t<li>'Computer'</li>\n",
       "\t<li>'Retail'</li>\n",
       "\t<li>'Bussiness'</li>\n",
       "\t<li>'Stock Exchnage'</li>\n",
       "\t<li>'Hollywood'</li>\n",
       "\t<li>'Hollywood'</li>\n",
       "\t<li>'Science'</li>\n",
       "\t<li>'Computer'</li>\n",
       "\t<li>'Retail'</li>\n",
       "\t<li>'Retail'</li>\n",
       "\t<li>'Bussiness'</li>\n",
       "\t<li>'Stock Exchnage'</li>\n",
       "\t<li>'Retail'</li>\n",
       "\t<li>'Bussiness'</li>\n",
       "\t<li>'Stock Exchnage'</li>\n",
       "\t<li>'Hollywood'</li>\n",
       "\t<li>'Science'</li>\n",
       "\t<li>'Computer'</li>\n",
       "\t<li>'Bussiness'</li>\n",
       "\t<li>'Science'</li>\n",
       "\t<li>'Bussiness'</li>\n",
       "\t<li>'Sports'</li>\n",
       "\t<li>'Sports'</li>\n",
       "\t<li>'Hollywood'</li>\n",
       "\t<li>'Computer'</li>\n",
       "\t<li>'Science'</li>\n",
       "</ol>\n",
       "</dd>\n",
       "\t<dt>$length</dt>\n",
       "\t\t<dd><ol class=list-inline>\n",
       "\t<li>300</li>\n",
       "\t<li>500</li>\n",
       "\t<li>600</li>\n",
       "\t<li>300</li>\n",
       "\t<li>300</li>\n",
       "\t<li>300</li>\n",
       "\t<li>500</li>\n",
       "\t<li>600</li>\n",
       "\t<li>800</li>\n",
       "\t<li>1000</li>\n",
       "\t<li>300</li>\n",
       "\t<li>300</li>\n",
       "\t<li>350</li>\n",
       "\t<li>400</li>\n",
       "\t<li>480</li>\n",
       "\t<li>600</li>\n",
       "\t<li>300</li>\n",
       "\t<li>300</li>\n",
       "\t<li>400</li>\n",
       "\t<li>690</li>\n",
       "\t<li>690</li>\n",
       "\t<li>300</li>\n",
       "\t<li>600</li>\n",
       "\t<li>400</li>\n",
       "\t<li>900</li>\n",
       "\t<li>1000</li>\n",
       "\t<li>300</li>\n",
       "\t<li>300</li>\n",
       "\t<li>400</li>\n",
       "\t<li>900</li>\n",
       "\t<li>600</li>\n",
       "\t<li>600</li>\n",
       "\t<li>350</li>\n",
       "\t<li>400</li>\n",
       "\t<li>480</li>\n",
       "\t<li>600</li>\n",
       "\t<li>300</li>\n",
       "\t<li>900</li>\n",
       "\t<li>400</li>\n",
       "\t<li>900</li>\n",
       "\t<li>300</li>\n",
       "\t<li>900</li>\n",
       "\t<li>350</li>\n",
       "\t<li>400</li>\n",
       "\t<li>480</li>\n",
       "\t<li>1000</li>\n",
       "\t<li>690</li>\n",
       "\t<li>300</li>\n",
       "\t<li>400</li>\n",
       "\t<li>400</li>\n",
       "\t<li>1000</li>\n",
       "</ol>\n",
       "</dd>\n",
       "</dl>\n"
      ],
      "text/latex": [
       "\\begin{description}\n",
       "\\item[\\$reporter] \\begin{enumerate*}\n",
       "\\item 'John'\n",
       "\\item 'Taylor'\n",
       "\\item 'Chris'\n",
       "\\item 'Lilly'\n",
       "\\item 'Larry'\n",
       "\\item 'Henderson'\n",
       "\\item 'Rohan'\n",
       "\\item 'Barbara'\n",
       "\\item 'Kallie'\n",
       "\\item 'Pegi'\n",
       "\\item 'Mark'\n",
       "\\item 'Steve'\n",
       "\\item 'Derin'\n",
       "\\item 'Wendy'\n",
       "\\item 'Harry'\n",
       "\\item 'Larry'\n",
       "\\item 'Barbara'\n",
       "\\item 'Wendy'\n",
       "\\item 'Rohan'\n",
       "\\item 'Kallie'\n",
       "\\item 'Taylor'\n",
       "\\item 'Chris'\n",
       "\\item 'Wendy'\n",
       "\\item 'Rohan'\n",
       "\\item 'John'\n",
       "\\item 'Larry'\n",
       "\\item 'Lilly'\n",
       "\\item 'Larry'\n",
       "\\item 'Henderson'\n",
       "\\item 'Pegi'\n",
       "\\item 'Mark'\n",
       "\\item 'Steve'\n",
       "\\item 'Chris'\n",
       "\\item 'Lilly'\n",
       "\\item 'Larry'\n",
       "\\item 'Henderson'\n",
       "\\item 'Wendy'\n",
       "\\item 'Kallie'\n",
       "\\item 'Pegi'\n",
       "\\item 'Pegi'\n",
       "\\item 'John'\n",
       "\\item 'Henderson'\n",
       "\\item 'Derin'\n",
       "\\item 'Wendy'\n",
       "\\item 'Harry'\n",
       "\\item 'Steve'\n",
       "\\item 'Derin'\n",
       "\\item 'Wendy'\n",
       "\\item 'Rohan'\n",
       "\\item 'John'\n",
       "\\item 'Wendy'\n",
       "\\end{enumerate*}\n",
       "\n",
       "\\item[\\$genre] \\begin{enumerate*}\n",
       "\\item 'Sports'\n",
       "\\item 'Technology'\n",
       "\\item 'Science'\n",
       "\\item 'Computer'\n",
       "\\item 'Retail'\n",
       "\\item 'Bussiness'\n",
       "\\item 'Stock Exchnage'\n",
       "\\item 'Hollywood'\n",
       "\\item 'Science'\n",
       "\\item 'Computer'\n",
       "\\item 'Science'\n",
       "\\item 'Technology'\n",
       "\\item 'Science'\n",
       "\\item 'Computer'\n",
       "\\item 'Sports'\n",
       "\\item 'Technology'\n",
       "\\item 'Science'\n",
       "\\item 'Computer'\n",
       "\\item 'Stock Exchnage'\n",
       "\\item 'Hollywood'\n",
       "\\item 'Retail'\n",
       "\\item 'Bussiness'\n",
       "\\item 'Stock Exchnage'\n",
       "\\item 'Hollywood'\n",
       "\\item 'Science'\n",
       "\\item 'Computer'\n",
       "\\item 'Retail'\n",
       "\\item 'Bussiness'\n",
       "\\item 'Stock Exchnage'\n",
       "\\item 'Hollywood'\n",
       "\\item 'Hollywood'\n",
       "\\item 'Science'\n",
       "\\item 'Computer'\n",
       "\\item 'Retail'\n",
       "\\item 'Retail'\n",
       "\\item 'Bussiness'\n",
       "\\item 'Stock Exchnage'\n",
       "\\item 'Retail'\n",
       "\\item 'Bussiness'\n",
       "\\item 'Stock Exchnage'\n",
       "\\item 'Hollywood'\n",
       "\\item 'Science'\n",
       "\\item 'Computer'\n",
       "\\item 'Bussiness'\n",
       "\\item 'Science'\n",
       "\\item 'Bussiness'\n",
       "\\item 'Sports'\n",
       "\\item 'Sports'\n",
       "\\item 'Hollywood'\n",
       "\\item 'Computer'\n",
       "\\item 'Science'\n",
       "\\end{enumerate*}\n",
       "\n",
       "\\item[\\$length] \\begin{enumerate*}\n",
       "\\item 300\n",
       "\\item 500\n",
       "\\item 600\n",
       "\\item 300\n",
       "\\item 300\n",
       "\\item 300\n",
       "\\item 500\n",
       "\\item 600\n",
       "\\item 800\n",
       "\\item 1000\n",
       "\\item 300\n",
       "\\item 300\n",
       "\\item 350\n",
       "\\item 400\n",
       "\\item 480\n",
       "\\item 600\n",
       "\\item 300\n",
       "\\item 300\n",
       "\\item 400\n",
       "\\item 690\n",
       "\\item 690\n",
       "\\item 300\n",
       "\\item 600\n",
       "\\item 400\n",
       "\\item 900\n",
       "\\item 1000\n",
       "\\item 300\n",
       "\\item 300\n",
       "\\item 400\n",
       "\\item 900\n",
       "\\item 600\n",
       "\\item 600\n",
       "\\item 350\n",
       "\\item 400\n",
       "\\item 480\n",
       "\\item 600\n",
       "\\item 300\n",
       "\\item 900\n",
       "\\item 400\n",
       "\\item 900\n",
       "\\item 300\n",
       "\\item 900\n",
       "\\item 350\n",
       "\\item 400\n",
       "\\item 480\n",
       "\\item 1000\n",
       "\\item 690\n",
       "\\item 300\n",
       "\\item 400\n",
       "\\item 400\n",
       "\\item 1000\n",
       "\\end{enumerate*}\n",
       "\n",
       "\\end{description}\n"
      ],
      "text/markdown": [
       "$reporter\n",
       ":   1. 'John'\n",
       "2. 'Taylor'\n",
       "3. 'Chris'\n",
       "4. 'Lilly'\n",
       "5. 'Larry'\n",
       "6. 'Henderson'\n",
       "7. 'Rohan'\n",
       "8. 'Barbara'\n",
       "9. 'Kallie'\n",
       "10. 'Pegi'\n",
       "11. 'Mark'\n",
       "12. 'Steve'\n",
       "13. 'Derin'\n",
       "14. 'Wendy'\n",
       "15. 'Harry'\n",
       "16. 'Larry'\n",
       "17. 'Barbara'\n",
       "18. 'Wendy'\n",
       "19. 'Rohan'\n",
       "20. 'Kallie'\n",
       "21. 'Taylor'\n",
       "22. 'Chris'\n",
       "23. 'Wendy'\n",
       "24. 'Rohan'\n",
       "25. 'John'\n",
       "26. 'Larry'\n",
       "27. 'Lilly'\n",
       "28. 'Larry'\n",
       "29. 'Henderson'\n",
       "30. 'Pegi'\n",
       "31. 'Mark'\n",
       "32. 'Steve'\n",
       "33. 'Chris'\n",
       "34. 'Lilly'\n",
       "35. 'Larry'\n",
       "36. 'Henderson'\n",
       "37. 'Wendy'\n",
       "38. 'Kallie'\n",
       "39. 'Pegi'\n",
       "40. 'Pegi'\n",
       "41. 'John'\n",
       "42. 'Henderson'\n",
       "43. 'Derin'\n",
       "44. 'Wendy'\n",
       "45. 'Harry'\n",
       "46. 'Steve'\n",
       "47. 'Derin'\n",
       "48. 'Wendy'\n",
       "49. 'Rohan'\n",
       "50. 'John'\n",
       "51. 'Wendy'\n",
       "\n",
       "\n",
       "\n",
       "$genre\n",
       ":   1. 'Sports'\n",
       "2. 'Technology'\n",
       "3. 'Science'\n",
       "4. 'Computer'\n",
       "5. 'Retail'\n",
       "6. 'Bussiness'\n",
       "7. 'Stock Exchnage'\n",
       "8. 'Hollywood'\n",
       "9. 'Science'\n",
       "10. 'Computer'\n",
       "11. 'Science'\n",
       "12. 'Technology'\n",
       "13. 'Science'\n",
       "14. 'Computer'\n",
       "15. 'Sports'\n",
       "16. 'Technology'\n",
       "17. 'Science'\n",
       "18. 'Computer'\n",
       "19. 'Stock Exchnage'\n",
       "20. 'Hollywood'\n",
       "21. 'Retail'\n",
       "22. 'Bussiness'\n",
       "23. 'Stock Exchnage'\n",
       "24. 'Hollywood'\n",
       "25. 'Science'\n",
       "26. 'Computer'\n",
       "27. 'Retail'\n",
       "28. 'Bussiness'\n",
       "29. 'Stock Exchnage'\n",
       "30. 'Hollywood'\n",
       "31. 'Hollywood'\n",
       "32. 'Science'\n",
       "33. 'Computer'\n",
       "34. 'Retail'\n",
       "35. 'Retail'\n",
       "36. 'Bussiness'\n",
       "37. 'Stock Exchnage'\n",
       "38. 'Retail'\n",
       "39. 'Bussiness'\n",
       "40. 'Stock Exchnage'\n",
       "41. 'Hollywood'\n",
       "42. 'Science'\n",
       "43. 'Computer'\n",
       "44. 'Bussiness'\n",
       "45. 'Science'\n",
       "46. 'Bussiness'\n",
       "47. 'Sports'\n",
       "48. 'Sports'\n",
       "49. 'Hollywood'\n",
       "50. 'Computer'\n",
       "51. 'Science'\n",
       "\n",
       "\n",
       "\n",
       "$length\n",
       ":   1. 300\n",
       "2. 500\n",
       "3. 600\n",
       "4. 300\n",
       "5. 300\n",
       "6. 300\n",
       "7. 500\n",
       "8. 600\n",
       "9. 800\n",
       "10. 1000\n",
       "11. 300\n",
       "12. 300\n",
       "13. 350\n",
       "14. 400\n",
       "15. 480\n",
       "16. 600\n",
       "17. 300\n",
       "18. 300\n",
       "19. 400\n",
       "20. 690\n",
       "21. 690\n",
       "22. 300\n",
       "23. 600\n",
       "24. 400\n",
       "25. 900\n",
       "26. 1000\n",
       "27. 300\n",
       "28. 300\n",
       "29. 400\n",
       "30. 900\n",
       "31. 600\n",
       "32. 600\n",
       "33. 350\n",
       "34. 400\n",
       "35. 480\n",
       "36. 600\n",
       "37. 300\n",
       "38. 900\n",
       "39. 400\n",
       "40. 900\n",
       "41. 300\n",
       "42. 900\n",
       "43. 350\n",
       "44. 400\n",
       "45. 480\n",
       "46. 1000\n",
       "47. 690\n",
       "48. 300\n",
       "49. 400\n",
       "50. 400\n",
       "51. 1000\n",
       "\n",
       "\n",
       "\n",
       "\n",
       "\n"
      ],
      "text/plain": [
       "$reporter\n",
       " [1] \"John\"      \"Taylor\"    \"Chris\"     \"Lilly\"     \"Larry\"     \"Henderson\"\n",
       " [7] \"Rohan\"     \"Barbara\"   \"Kallie\"    \"Pegi\"      \"Mark\"      \"Steve\"    \n",
       "[13] \"Derin\"     \"Wendy\"     \"Harry\"     \"Larry\"     \"Barbara\"   \"Wendy\"    \n",
       "[19] \"Rohan\"     \"Kallie\"    \"Taylor\"    \"Chris\"     \"Wendy\"     \"Rohan\"    \n",
       "[25] \"John\"      \"Larry\"     \"Lilly\"     \"Larry\"     \"Henderson\" \"Pegi\"     \n",
       "[31] \"Mark\"      \"Steve\"     \"Chris\"     \"Lilly\"     \"Larry\"     \"Henderson\"\n",
       "[37] \"Wendy\"     \"Kallie\"    \"Pegi\"      \"Pegi\"      \"John\"      \"Henderson\"\n",
       "[43] \"Derin\"     \"Wendy\"     \"Harry\"     \"Steve\"     \"Derin\"     \"Wendy\"    \n",
       "[49] \"Rohan\"     \"John\"      \"Wendy\"    \n",
       "\n",
       "$genre\n",
       " [1] \"Sports\"         \"Technology\"     \"Science\"        \"Computer\"      \n",
       " [5] \"Retail\"         \"Bussiness\"      \"Stock Exchnage\" \"Hollywood\"     \n",
       " [9] \"Science\"        \"Computer\"       \"Science\"        \"Technology\"    \n",
       "[13] \"Science\"        \"Computer\"       \"Sports\"         \"Technology\"    \n",
       "[17] \"Science\"        \"Computer\"       \"Stock Exchnage\" \"Hollywood\"     \n",
       "[21] \"Retail\"         \"Bussiness\"      \"Stock Exchnage\" \"Hollywood\"     \n",
       "[25] \"Science\"        \"Computer\"       \"Retail\"         \"Bussiness\"     \n",
       "[29] \"Stock Exchnage\" \"Hollywood\"      \"Hollywood\"      \"Science\"       \n",
       "[33] \"Computer\"       \"Retail\"         \"Retail\"         \"Bussiness\"     \n",
       "[37] \"Stock Exchnage\" \"Retail\"         \"Bussiness\"      \"Stock Exchnage\"\n",
       "[41] \"Hollywood\"      \"Science\"        \"Computer\"       \"Bussiness\"     \n",
       "[45] \"Science\"        \"Bussiness\"      \"Sports\"         \"Sports\"        \n",
       "[49] \"Hollywood\"      \"Computer\"       \"Science\"       \n",
       "\n",
       "$length\n",
       " [1]  300  500  600  300  300  300  500  600  800 1000  300  300  350  400  480\n",
       "[16]  600  300  300  400  690  690  300  600  400  900 1000  300  300  400  900\n",
       "[31]  600  600  350  400  480  600  300  900  400  900  300  900  350  400  480\n",
       "[46] 1000  690  300  400  400 1000\n"
      ]
     },
     "metadata": {},
     "output_type": "display_data"
    },
    {
     "data": {
      "text/plain": [
       "+ 51/51 edges from 9c114be (vertex names):\n",
       "                  tail                head tid hid  reporter          genre\n",
       "1            USA TODAY           USA TODAY   1   1      John         Sports\n",
       "2            USA TODAY WALL STREET JOURNAL   1   2    Taylor     Technology\n",
       "3            USA TODAY        NEWYORK POST   1   4     Chris        Science\n",
       "4            USA TODAY     CHICAGO TRIBUNE   1   8     Lilly       Computer\n",
       "5            USA TODAY           THE TIMES   1  10     Larry         Retail\n",
       "6  WALL STREET JOURNAL           USA TODAY   2   1 Henderson      Bussiness\n",
       "7  WALL STREET JOURNAL           USA TODAY   2   1     Rohan Stock Exchnage\n",
       "8  WALL STREET JOURNAL WALL STREET JOURNAL   2   2   Barbara      Hollywood\n",
       "9  WALL STREET JOURNAL WALL STREET JOURNAL   2   2    Kallie        Science\n",
       "10 WALL STREET JOURNAL       NEWYORK TIMES   2   3      Pegi       Computer\n",
       "11 WALL STREET JOURNAL       NEWYORK TIMES   2   3      Mark        Science\n",
       "12 WALL STREET JOURNAL        NEWYORK POST   2   4     Steve     Technology\n",
       "13 WALL STREET JOURNAL             NEWSDAY   2   7     Derin        Science\n",
       "14 WALL STREET JOURNAL             NEWSDAY   2   7     Wendy       Computer\n",
       "15 WALL STREET JOURNAL     CHICAGO TRIBUNE   2   8     Harry         Sports\n",
       "16 WALL STREET JOURNAL           THE TIMES   2  10     Larry     Technology\n",
       "17       NEWYORK TIMES WALL STREET JOURNAL   3   2   Barbara        Science\n",
       "18       NEWYORK TIMES       NEWYORK TIMES   3   3     Wendy       Computer\n",
       "19       NEWYORK TIMES           THE TIMES   3  10     Rohan Stock Exchnage\n",
       "20        NEWYORK POST        NEWYORK POST   4   4    Kallie      Hollywood\n",
       "21        NEWYORK POST            LA TIMES   4   5    Taylor         Retail\n",
       "22        NEWYORK POST     CHICAGO TRIBUNE   4   8     Chris      Bussiness\n",
       "23        NEWYORK POST           THE TIMES   4  10     Wendy Stock Exchnage\n",
       "24            LA TIMES           USA TODAY   5   1     Rohan      Hollywood\n",
       "25            LA TIMES       NEWYORK TIMES   5   3      John        Science\n",
       "26            LA TIMES        NEWYORK POST   5   4     Larry       Computer\n",
       "27            LA TIMES        STAR TRIBUNE   5   6     Lilly         Retail\n",
       "28            LA TIMES     CHICAGO TRIBUNE   5   8     Larry      Bussiness\n",
       "29            LA TIMES           THE TIMES   5  10 Henderson Stock Exchnage\n",
       "30        STAR TRIBUNE        STAR TRIBUNE   6   6      Pegi      Hollywood\n",
       "31        STAR TRIBUNE     CHICAGO TRIBUNE   6   8      Mark      Hollywood\n",
       "32        STAR TRIBUNE           THE TIMES   6  10     Steve        Science\n",
       "33             NEWSDAY           USA TODAY   7   1     Chris       Computer\n",
       "34             NEWSDAY WALL STREET JOURNAL   7   2     Lilly         Retail\n",
       "35             NEWSDAY            LA TIMES   7   5     Larry         Retail\n",
       "36             NEWSDAY        STAR TRIBUNE   7   6 Henderson      Bussiness\n",
       "37             NEWSDAY             NEWSDAY   7   7     Wendy Stock Exchnage\n",
       "38             NEWSDAY           THE TIMES   7  10    Kallie         Retail\n",
       "39     CHICAGO TRIBUNE            LA TIMES   8   5      Pegi      Bussiness\n",
       "40     CHICAGO TRIBUNE     CHICAGO TRIBUNE   8   8      Pegi Stock Exchnage\n",
       "41     CHICAGO TRIBUNE        BOSTON GLOBE   8   9      John      Hollywood\n",
       "42        BOSTON GLOBE           USA TODAY   9   1 Henderson        Science\n",
       "43        BOSTON GLOBE WALL STREET JOURNAL   9   2     Derin       Computer\n",
       "44        BOSTON GLOBE       NEWYORK TIMES   9   3     Wendy      Bussiness\n",
       "45        BOSTON GLOBE            LA TIMES   9   5     Harry        Science\n",
       "46        BOSTON GLOBE        STAR TRIBUNE   9   6     Steve      Bussiness\n",
       "47        BOSTON GLOBE        BOSTON GLOBE   9   9     Derin         Sports\n",
       "48           THE TIMES            LA TIMES  10   5     Wendy         Sports\n",
       "49           THE TIMES        STAR TRIBUNE  10   6     Rohan      Hollywood\n",
       "50           THE TIMES     CHICAGO TRIBUNE  10   8      John       Computer\n",
       "51           THE TIMES           THE TIMES  10  10     Wendy        Science\n",
       "   length\n",
       "1     300\n",
       "2     500\n",
       "3     600\n",
       "4     300\n",
       "5     300\n",
       "6     300\n",
       "7     500\n",
       "8     600\n",
       "9     800\n",
       "10   1000\n",
       "11    300\n",
       "12    300\n",
       "13    350\n",
       "14    400\n",
       "15    480\n",
       "16    600\n",
       "17    300\n",
       "18    300\n",
       "19    400\n",
       "20    690\n",
       "21    690\n",
       "22    300\n",
       "23    600\n",
       "24    400\n",
       "25    900\n",
       "26   1000\n",
       "27    300\n",
       "28    300\n",
       "29    400\n",
       "30    900\n",
       "31    600\n",
       "32    600\n",
       "33    350\n",
       "34    400\n",
       "35    480\n",
       "36    600\n",
       "37    300\n",
       "38    900\n",
       "39    400\n",
       "40    900\n",
       "41    300\n",
       "42    900\n",
       "43    350\n",
       "44    400\n",
       "45    480\n",
       "46   1000\n",
       "47    690\n",
       "48    300\n",
       "49    400\n",
       "50    400\n",
       "51   1000"
      ]
     },
     "metadata": {},
     "output_type": "display_data"
    }
   ],
   "source": [
    "E(news_g)$reporter <- c(\"John\", \"Taylor\", \"Chris\", \"Lilly\", \"Larry\", \"Henderson\", \"Rohan\", \"Barbara\", \"Kallie\", \"Pegi\", \n",
    "                        \"Mark\", \"Steve\", \"Derin\", \"Wendy\", \"Harry\", \"Larry\", \"Barbara\", \"Wendy\", \"Rohan\", \"Kallie\",\n",
    "                        \"Taylor\", \"Chris\", \"Wendy\", \"Rohan\", \"John\", \"Larry\", \"Lilly\", \"Larry\", \"Henderson\", \"Pegi\",\n",
    "                        \"Mark\", \"Steve\", \"Chris\", \"Lilly\", \"Larry\", \"Henderson\", \"Wendy\", \"Kallie\", \"Pegi\", \"Pegi\",\n",
    "                        \"John\", \"Henderson\", \"Derin\", \"Wendy\", \"Harry\",  \"Steve\", \"Derin\", \"Wendy\", \"Rohan\", \"John\",\n",
    "                        \"Wendy\"\n",
    "                        )\n",
    "E(news_g)$genre <- c(\"Sports\", \"Technology\", \"Science\", \"Computer\", \"Retail\", \"Bussiness\", \"Stock Exchnage\", \"Hollywood\", \"Science\", \"Computer\", \n",
    "                        \"Science\", \"Technology\", \"Science\", \"Computer\", \"Sports\", \"Technology\", \"Science\", \"Computer\", \"Stock Exchnage\", \"Hollywood\",\n",
    "                        \"Retail\", \"Bussiness\", \"Stock Exchnage\", \"Hollywood\", \"Science\", \"Computer\", \"Retail\", \"Bussiness\", \"Stock Exchnage\", \"Hollywood\",\n",
    "                        \"Hollywood\", \"Science\", \"Computer\", \"Retail\", \"Retail\", \"Bussiness\", \"Stock Exchnage\", \"Retail\", \"Bussiness\", \"Stock Exchnage\",\n",
    "                        \"Hollywood\", \"Science\", \"Computer\",\"Bussiness\", \"Science\", \"Bussiness\", \"Sports\", \"Sports\", \"Hollywood\",\"Computer\", \n",
    "                        \"Science\"\n",
    "                        )\n",
    "E(news_g)$length <- c(300, 500, 600, 300, 300, 300, 500, 600, 800, 1000, \n",
    "                        300, 300, 350, 400, 480, 600, 300, 300, 400, 690,\n",
    "                        690, 300, 600, 400, 900, 1000, 300, 300, 400, 900,\n",
    "                        600, 600, 350, 400, 480, 600, 300, 900, 400, 900,\n",
    "                        300, 900, 350, 400, 480, 1000, 690, 300, 400, 400,\n",
    "                        1000\n",
    "                        )\n",
    "edge_attr(news_g)\n",
    "E(news_g)[[]]"
   ]
  },
  {
   "cell_type": "markdown",
   "metadata": {},
   "source": [
    "The new properties are added to the refrences of the articles."
   ]
  },
  {
   "cell_type": "markdown",
   "metadata": {},
   "source": [
    "<blockquote style=\"border: 2px solid #666; padding: 10px; background-color: #ccc;\"><b>Question 5:</b> Referring Articles</blockquote>"
   ]
  },
  {
   "cell_type": "markdown",
   "metadata": {},
   "source": [
    "<div align=left>\n",
    "<font size = 4 , color = blue><b> a)</b></font> Select 2 newspapers of your choice. What are all the articles that were published by the first newspaper and referred to by the other?\n",
    "</div>"
   ]
  },
  {
   "cell_type": "markdown",
   "metadata": {},
   "source": [
    "<span style=\"background-color: #FFFF00\">Your answer here</span>"
   ]
  },
  {
   "cell_type": "code",
   "execution_count": 132,
   "metadata": {},
   "outputs": [
    {
     "data": {
      "text/html": [
       "<table>\n",
       "<thead><tr><th scope=col>reporter</th><th scope=col>genre</th><th scope=col>length</th></tr></thead>\n",
       "<tbody>\n",
       "\t<tr><td>Taylor    </td><td>Technology</td><td>500       </td></tr>\n",
       "</tbody>\n",
       "</table>\n"
      ],
      "text/latex": [
       "\\begin{tabular}{r|lll}\n",
       " reporter & genre & length\\\\\n",
       "\\hline\n",
       "\t Taylor     & Technology & 500       \\\\\n",
       "\\end{tabular}\n"
      ],
      "text/markdown": [
       "\n",
       "| reporter | genre | length |\n",
       "|---|---|---|\n",
       "| Taylor     | Technology | 500        |\n",
       "\n"
      ],
      "text/plain": [
       "  reporter genre      length\n",
       "1 Taylor   Technology 500   "
      ]
     },
     "metadata": {},
     "output_type": "display_data"
    }
   ],
   "source": [
    "my.ref <- E(news_g)[\"USA TODAY\" %‐>% \"WALL STREET JOURNAL\"]\n",
    "refered <- data.frame(reporter = my.ref$reporter, genre = my.ref$genre, length = my.ref$length)\n",
    "refered"
   ]
  },
  {
   "cell_type": "markdown",
   "metadata": {},
   "source": [
    "There is one article on technology which was pubished on <B>USA TODAY</B>  and was reffered to <B>WALL STREET JOURNAL</B>. "
   ]
  },
  {
   "cell_type": "markdown",
   "metadata": {},
   "source": [
    "<blockquote style=\"border: 2px solid #666; padding: 10px; background-color: #ccc;\"><b>Question 6:</b> Reporters</blockquote>"
   ]
  },
  {
   "cell_type": "markdown",
   "metadata": {},
   "source": [
    "<div align=left>\n",
    "<font size = 4 , color = blue><b> a) </b></font>What reporter is the one referred to the most?\n",
    "</div>"
   ]
  },
  {
   "cell_type": "markdown",
   "metadata": {},
   "source": [
    "<span style=\"background-color: #FFFF00\">Your answer here</span>"
   ]
  },
  {
   "cell_type": "code",
   "execution_count": 133,
   "metadata": {},
   "outputs": [
    {
     "data": {
      "text/html": [
       "'Wendy'"
      ],
      "text/latex": [
       "'Wendy'"
      ],
      "text/markdown": [
       "'Wendy'"
      ],
      "text/plain": [
       "[1] \"Wendy\""
      ]
     },
     "metadata": {},
     "output_type": "display_data"
    }
   ],
   "source": [
    "max(E(news_g)$reporter)"
   ]
  },
  {
   "cell_type": "markdown",
   "metadata": {},
   "source": [
    "<b>Wendy</b> is referred the most among all the reporters."
   ]
  },
  {
   "cell_type": "markdown",
   "metadata": {},
   "source": [
    "<blockquote style=\"border: 2px solid #666; padding: 10px; background-color: #ccc;\"><b>Question 7:</b> Your Own Question</blockquote>"
   ]
  },
  {
   "cell_type": "markdown",
   "metadata": {},
   "source": [
    "<div align=left>\n",
    "<font size = 4 , color = blue><b> a) </b></font>  Creative points. Use your imagination. Ask a question and answer it with a result and a plot.\n",
    "</div>"
   ]
  },
  {
   "cell_type": "markdown",
   "metadata": {},
   "source": [
    "<span style=\"background-color: #FFFF00\">Your answer here</span>"
   ]
  },
  {
   "cell_type": "markdown",
   "metadata": {
    "collapsed": true
   },
   "source": [
    "Which genre is most reffered among all the genres?"
   ]
  },
  {
   "cell_type": "code",
   "execution_count": 134,
   "metadata": {
    "scrolled": true
   },
   "outputs": [
    {
     "data": {
      "text/html": [
       "'Technology'"
      ],
      "text/latex": [
       "'Technology'"
      ],
      "text/markdown": [
       "'Technology'"
      ],
      "text/plain": [
       "[1] \"Technology\""
      ]
     },
     "metadata": {},
     "output_type": "display_data"
    }
   ],
   "source": [
    "max(E(news_g)$genre)"
   ]
  },
  {
   "cell_type": "markdown",
   "metadata": {},
   "source": [
    "Articles on <b>Technology</b> are referred the most among all genre. "
   ]
  }
 ],
 "metadata": {
  "kernelspec": {
   "display_name": "R",
   "language": "R",
   "name": "ir"
  },
  "language_info": {
   "codemirror_mode": "r",
   "file_extension": ".r",
   "mimetype": "text/x-r-source",
   "name": "R",
   "pygments_lexer": "r",
   "version": "3.6.1"
  }
 },
 "nbformat": 4,
 "nbformat_minor": 1
}
